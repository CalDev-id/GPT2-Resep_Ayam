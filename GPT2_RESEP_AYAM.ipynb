{
  "cells": [
    {
      "cell_type": "markdown",
      "metadata": {
        "id": "Y9T1y1asqIAx"
      },
      "source": [
        "# GPT-2 Fine-Tuning"
      ]
    },
    {
      "cell_type": "markdown",
      "metadata": {
        "id": "XnwnTN_xqIAx"
      },
      "source": [
        "#### This is the code I wrote at the company, but I think it would be nice to share it here, so I post it.\n",
        "\n",
        "#### With this data, we will fine tune GPT-2 to make a sentence generation model.\n",
        "\n",
        "#### This code is for AI beginners."
      ]
    },
    {
      "cell_type": "markdown",
      "metadata": {
        "id": "d0J2qts8qIAy"
      },
      "source": [
        "## Step 1. Data preprocessing"
      ]
    },
    {
      "cell_type": "markdown",
      "metadata": {
        "id": "cciKJg5kqIAy"
      },
      "source": [
        "#### the data contains unnecessary newlines, tags, and URLs it will be necessary to remove them before preprocessing."
      ]
    },
    {
      "cell_type": "code",
      "execution_count": null,
      "metadata": {
        "id": "fTkVJGp-qIAy"
      },
      "outputs": [],
      "source": [
        "import pandas as pd\n",
        "import numpy as np\n",
        "import re"
      ]
    },
    {
      "cell_type": "code",
      "execution_count": null,
      "metadata": {
        "id": "ybV5eilhqIAy"
      },
      "outputs": [],
      "source": [
        "def cleaning(s):\n",
        "    s = str(s)\n",
        "    s = re.sub('\\s\\W',' ',s)\n",
        "    s = re.sub('\\W,\\s',' ',s)\n",
        "    s = re.sub(\"\\d+\", \"\", s)\n",
        "    s = re.sub('\\s+',' ',s)\n",
        "    s = re.sub('[!@#$_]', '', s)\n",
        "    s = s.replace(\"co\",\"\")\n",
        "    s = s.replace(\"https\",\"\")\n",
        "    s = s.replace(\"[\\w*\",\" \")\n",
        "    return s"
      ]
    },
    {
      "cell_type": "code",
      "execution_count": null,
      "metadata": {
        "colab": {
          "base_uri": "https://localhost:8080/",
          "height": 380
        },
        "id": "KEUlj9j4qIAy",
        "outputId": "1b340d2c-7471-453d-c657-c921f3f53a01"
      },
      "outputs": [
        {
          "data": {
            "application/vnd.google.colaboratory.intrinsic+json": {
              "summary": "{\n  \"name\": \"df\",\n  \"rows\": 1901,\n  \"fields\": [\n    {\n      \"column\": \"Title\",\n      \"properties\": {\n        \"dtype\": \"string\",\n        \"num_unique_values\": 1608,\n        \"samples\": [\n          \"Ayam Kecap Pedas Jeruk Limao\",\n          \"Nugget ayam simpel\",\n          \"Creamy chicken soup with toast\"\n        ],\n        \"semantic_type\": \"\",\n        \"description\": \"\"\n      }\n    },\n    {\n      \"column\": \"Ingredients\",\n      \"properties\": {\n        \"dtype\": \"string\",\n        \"num_unique_values\": 1901,\n        \"samples\": [\n          \"fillet Ayam--Tepung ayam goreng sekitar 1/4 bungkus (saya pakai merk s*sa)--1 buah Telur ayam--Minyak goreng--Bumbu ayam (bumbu kuning)--\",\n          \"Kulit--230 gram terigu--20 gr sagu--1 telur kocok dulu--secukupnya Air--Isian--potong kecil Daging ayam--potong kecil Wortel--Kentang potong kecil, goreng dl--iris Daun bawang--5 siung Bamer--2-3 siung Baput--Royco--Lada--Garam--Gula--Tambahan :--Telur--Tepung panir--\",\n          \"1 ekor ayam--10 bawang putih--1/2 sdt ketumbar bubuk--secukupnya Kaldu jamur--sesuai selera Garam--sesuai selera Merica--1 sdm cuka--Minyak Goreng--\"\n        ],\n        \"semantic_type\": \"\",\n        \"description\": \"\"\n      }\n    },\n    {\n      \"column\": \"Steps\",\n      \"properties\": {\n        \"dtype\": \"string\",\n        \"num_unique_values\": 1900,\n        \"samples\": [\n          \"Ambil kurang lebih 2 potong ayam fillet yang sudah dibumbui--Iris ayam fillet menjadi seperti di gambar--Pecahkam telur, masukan ke dalam mangkok, kocok--Sediakan wadah lain lalu taburkan tepung bumbu ayam goreng sekitar 1/4 bungkus--Masukan ayam yang sudah di iris ke telur satu per satu--Masukan ayam yang sudah dilumuri telur ke tepung bumbu ayam--Goreng ayam yang sudah dilumuri dengan api kecil atau sedang, kalau terlalu besar kurang optimal matangnya dan berpotensi gosong diluar--Ayam fillet crispy siap dihidangkan--\",\n          \"Buat adonan kulit dengan mencampur semua bahan untuk kulitnya, jangan terlalu encer--Pakai pan anti lengket (20cm) untuk membuat kulit. Di pan oles dulu dengan mentega supaya tdk lengket dan tuang skitar 1 sendok sayur untuk 1 lembar kulit risol--Membuat isian :--Tumis bamer dan baput sampai wangi dan kecoklatan masukan daging ayam dan aduk sampai ayam berubah warna--Masukan kentang yang sudah di goreng dan juga wortel.. aduk sampai rata, beri 2 sdm tepung terigu untuk mengentalkan isian. Dalam resep ini kentang tdk sy goreng, tapi mertua sy biasa membuatnya dgn di goreng lbh dl jd aromany lbh wangi--Beri air secukupnya untuk memasak supaya wortel lembek.--Beri garam, royco, gula, lada dan cicipi rasanya apakah sudah pas. Sebelum air habis masukan daun bawang dan aduk rata sampai agak kering. Bila rasa sudah pas bisa di pindahkan ke piring--Ambil selembar kulit risol dan isi dengan isinya. Isinya di ratakan dulu spy mudah membungkusnya. Lem pinggir kulit risol dengan air sagu spy tdk terbuka kulitny saat di goreng. Lakukan smp kulit dan isian habis--Kocok telur dan beri sedikit air dan kecap asin angsa spy kulit ada sedikit rasa asin. Dan siapkan tepung panir di piring lain--Lumuri risol yang sudah di bungkus dengan telur dan baluri dengan tepung panir--Goreng risol yang sudah di balur panir ke minyak panas. Goreng sampai kecoklatan--Angkat dan siap disajikan--\",\n          \"Potong2 ayam menjadi 10 bagian kecil--Ulek kasar bawang putih,balurkan ke ayam,tambahkan garam, ketumbar,lada dan kaldu jamur,balurkan secara merata--Tambahkan cuka aduk rata. Diamkan 15 menit (lebih lama lebih meresap)--Goreng di minyak panas sampai matang..sajikan..--\"\n        ],\n        \"semantic_type\": \"\",\n        \"description\": \"\"\n      }\n    },\n    {\n      \"column\": \"Loves\",\n      \"properties\": {\n        \"dtype\": \"number\",\n        \"std\": 20,\n        \"min\": 0,\n        \"max\": 237,\n        \"num_unique_values\": 104,\n        \"samples\": [\n          50,\n          76,\n          58\n        ],\n        \"semantic_type\": \"\",\n        \"description\": \"\"\n      }\n    },\n    {\n      \"column\": \"URL\",\n      \"properties\": {\n        \"dtype\": \"string\",\n        \"num_unique_values\": 1901,\n        \"samples\": [\n          \"/id/resep/4339656-ayam-fillet-crispy\",\n          \"/id/resep/4467055-risol-sayuran-daging-ayam\",\n          \"/id/resep/4439161-ayam-goreng-langsung\"\n        ],\n        \"semantic_type\": \"\",\n        \"description\": \"\"\n      }\n    },\n    {\n      \"column\": \"gabungan\",\n      \"properties\": {\n        \"dtype\": \"string\",\n        \"num_unique_values\": 1900,\n        \"samples\": [\n          \"Cara Masak Ayam Fillet Crispy Ambil kurang lebih 2 potong ayam fillet yang sudah dibumbui--Iris ayam fillet menjadi seperti di gambar--Pecahkam telur, masukan ke dalam mangkok, kocok--Sediakan wadah lain lalu taburkan tepung bumbu ayam goreng sekitar 1/4 bungkus--Masukan ayam yang sudah di iris ke telur satu per satu--Masukan ayam yang sudah dilumuri telur ke tepung bumbu ayam--Goreng ayam yang sudah dilumuri dengan api kecil atau sedang, kalau terlalu besar kurang optimal matangnya dan berpotensi gosong diluar--Ayam fillet crispy siap dihidangkan--\",\n          \"Cara Masak Risol sayuran + daging ayam Buat adonan kulit dengan mencampur semua bahan untuk kulitnya, jangan terlalu encer--Pakai pan anti lengket (20cm) untuk membuat kulit. Di pan oles dulu dengan mentega supaya tdk lengket dan tuang skitar 1 sendok sayur untuk 1 lembar kulit risol--Membuat isian :--Tumis bamer dan baput sampai wangi dan kecoklatan masukan daging ayam dan aduk sampai ayam berubah warna--Masukan kentang yang sudah di goreng dan juga wortel.. aduk sampai rata, beri 2 sdm tepung terigu untuk mengentalkan isian. Dalam resep ini kentang tdk sy goreng, tapi mertua sy biasa membuatnya dgn di goreng lbh dl jd aromany lbh wangi--Beri air secukupnya untuk memasak supaya wortel lembek.--Beri garam, royco, gula, lada dan cicipi rasanya apakah sudah pas. Sebelum air habis masukan daun bawang dan aduk rata sampai agak kering. Bila rasa sudah pas bisa di pindahkan ke piring--Ambil selembar kulit risol dan isi dengan isinya. Isinya di ratakan dulu spy mudah membungkusnya. Lem pinggir kulit risol dengan air sagu spy tdk terbuka kulitny saat di goreng. Lakukan smp kulit dan isian habis--Kocok telur dan beri sedikit air dan kecap asin angsa spy kulit ada sedikit rasa asin. Dan siapkan tepung panir di piring lain--Lumuri risol yang sudah di bungkus dengan telur dan baluri dengan tepung panir--Goreng risol yang sudah di balur panir ke minyak panas. Goreng sampai kecoklatan--Angkat dan siap disajikan--\",\n          \"Cara Masak Ayam Goreng Langsung Potong2 ayam menjadi 10 bagian kecil--Ulek kasar bawang putih,balurkan ke ayam,tambahkan garam, ketumbar,lada dan kaldu jamur,balurkan secara merata--Tambahkan cuka aduk rata. Diamkan 15 menit (lebih lama lebih meresap)--Goreng di minyak panas sampai matang..sajikan..--\"\n        ],\n        \"semantic_type\": \"\",\n        \"description\": \"\"\n      }\n    }\n  ]\n}",
              "type": "dataframe",
              "variable_name": "df"
            },
            "text/html": [
              "\n",
              "  <div id=\"df-0549ab5d-69c4-4ce1-b966-19ccb4c3030e\" class=\"colab-df-container\">\n",
              "    <div>\n",
              "<style scoped>\n",
              "    .dataframe tbody tr th:only-of-type {\n",
              "        vertical-align: middle;\n",
              "    }\n",
              "\n",
              "    .dataframe tbody tr th {\n",
              "        vertical-align: top;\n",
              "    }\n",
              "\n",
              "    .dataframe thead th {\n",
              "        text-align: right;\n",
              "    }\n",
              "</style>\n",
              "<table border=\"1\" class=\"dataframe\">\n",
              "  <thead>\n",
              "    <tr style=\"text-align: right;\">\n",
              "      <th></th>\n",
              "      <th>Title</th>\n",
              "      <th>Ingredients</th>\n",
              "      <th>Steps</th>\n",
              "      <th>Loves</th>\n",
              "      <th>URL</th>\n",
              "      <th>gabungan</th>\n",
              "    </tr>\n",
              "  </thead>\n",
              "  <tbody>\n",
              "    <tr>\n",
              "      <th>0</th>\n",
              "      <td>Ayam Woku Manado</td>\n",
              "      <td>1 Ekor Ayam Kampung (potong 12)--2 Buah Jeruk ...</td>\n",
              "      <td>Cuci bersih ayam dan tiriskan. Lalu peras jeru...</td>\n",
              "      <td>1</td>\n",
              "      <td>/id/resep/4473027-ayam-woku-manado</td>\n",
              "      <td>Cara Masak Ayam Woku Manado Cuci bersih ayam d...</td>\n",
              "    </tr>\n",
              "    <tr>\n",
              "      <th>1</th>\n",
              "      <td>Ayam goreng tulang lunak</td>\n",
              "      <td>1 kg ayam (dipotong sesuai selera jangan kecil...</td>\n",
              "      <td>Haluskan bumbu2nya (BaPut, ketumbar, kemiri, k...</td>\n",
              "      <td>1</td>\n",
              "      <td>/id/resep/4471956-ayam-goreng-tulang-lunak</td>\n",
              "      <td>Cara Masak Ayam goreng tulang lunak Haluskan b...</td>\n",
              "    </tr>\n",
              "    <tr>\n",
              "      <th>2</th>\n",
              "      <td>Ayam cabai kawin</td>\n",
              "      <td>1/4 kg ayam--3 buah cabai hijau besar--7 buah ...</td>\n",
              "      <td>Panaskan minyak di dalam wajan. Setelah minyak...</td>\n",
              "      <td>2</td>\n",
              "      <td>/id/resep/4473057-ayam-cabai-kawin</td>\n",
              "      <td>Cara Masak Ayam cabai kawin Panaskan minyak di...</td>\n",
              "    </tr>\n",
              "    <tr>\n",
              "      <th>3</th>\n",
              "      <td>Ayam Geprek</td>\n",
              "      <td>250 gr daging ayam (saya pakai fillet)--Secuku...</td>\n",
              "      <td>Goreng ayam seperti ayam krispi--Ulek semua ba...</td>\n",
              "      <td>10</td>\n",
              "      <td>/id/resep/4473023-ayam-geprek</td>\n",
              "      <td>Cara Masak Ayam Geprek Goreng ayam seperti aya...</td>\n",
              "    </tr>\n",
              "    <tr>\n",
              "      <th>4</th>\n",
              "      <td>Minyak Ayam</td>\n",
              "      <td>400 gr kulit ayam &amp; lemaknya--8 siung bawang p...</td>\n",
              "      <td>Cuci bersih kulit ayam. Sisihkan--Ambil 50 ml ...</td>\n",
              "      <td>4</td>\n",
              "      <td>/id/resep/4427438-minyak-ayam</td>\n",
              "      <td>Cara Masak Minyak Ayam Cuci bersih kulit ayam....</td>\n",
              "    </tr>\n",
              "  </tbody>\n",
              "</table>\n",
              "</div>\n",
              "    <div class=\"colab-df-buttons\">\n",
              "\n",
              "  <div class=\"colab-df-container\">\n",
              "    <button class=\"colab-df-convert\" onclick=\"convertToInteractive('df-0549ab5d-69c4-4ce1-b966-19ccb4c3030e')\"\n",
              "            title=\"Convert this dataframe to an interactive table.\"\n",
              "            style=\"display:none;\">\n",
              "\n",
              "  <svg xmlns=\"http://www.w3.org/2000/svg\" height=\"24px\" viewBox=\"0 -960 960 960\">\n",
              "    <path d=\"M120-120v-720h720v720H120Zm60-500h600v-160H180v160Zm220 220h160v-160H400v160Zm0 220h160v-160H400v160ZM180-400h160v-160H180v160Zm440 0h160v-160H620v160ZM180-180h160v-160H180v160Zm440 0h160v-160H620v160Z\"/>\n",
              "  </svg>\n",
              "    </button>\n",
              "\n",
              "  <style>\n",
              "    .colab-df-container {\n",
              "      display:flex;\n",
              "      gap: 12px;\n",
              "    }\n",
              "\n",
              "    .colab-df-convert {\n",
              "      background-color: #E8F0FE;\n",
              "      border: none;\n",
              "      border-radius: 50%;\n",
              "      cursor: pointer;\n",
              "      display: none;\n",
              "      fill: #1967D2;\n",
              "      height: 32px;\n",
              "      padding: 0 0 0 0;\n",
              "      width: 32px;\n",
              "    }\n",
              "\n",
              "    .colab-df-convert:hover {\n",
              "      background-color: #E2EBFA;\n",
              "      box-shadow: 0px 1px 2px rgba(60, 64, 67, 0.3), 0px 1px 3px 1px rgba(60, 64, 67, 0.15);\n",
              "      fill: #174EA6;\n",
              "    }\n",
              "\n",
              "    .colab-df-buttons div {\n",
              "      margin-bottom: 4px;\n",
              "    }\n",
              "\n",
              "    [theme=dark] .colab-df-convert {\n",
              "      background-color: #3B4455;\n",
              "      fill: #D2E3FC;\n",
              "    }\n",
              "\n",
              "    [theme=dark] .colab-df-convert:hover {\n",
              "      background-color: #434B5C;\n",
              "      box-shadow: 0px 1px 3px 1px rgba(0, 0, 0, 0.15);\n",
              "      filter: drop-shadow(0px 1px 2px rgba(0, 0, 0, 0.3));\n",
              "      fill: #FFFFFF;\n",
              "    }\n",
              "  </style>\n",
              "\n",
              "    <script>\n",
              "      const buttonEl =\n",
              "        document.querySelector('#df-0549ab5d-69c4-4ce1-b966-19ccb4c3030e button.colab-df-convert');\n",
              "      buttonEl.style.display =\n",
              "        google.colab.kernel.accessAllowed ? 'block' : 'none';\n",
              "\n",
              "      async function convertToInteractive(key) {\n",
              "        const element = document.querySelector('#df-0549ab5d-69c4-4ce1-b966-19ccb4c3030e');\n",
              "        const dataTable =\n",
              "          await google.colab.kernel.invokeFunction('convertToInteractive',\n",
              "                                                    [key], {});\n",
              "        if (!dataTable) return;\n",
              "\n",
              "        const docLinkHtml = 'Like what you see? Visit the ' +\n",
              "          '<a target=\"_blank\" href=https://colab.research.google.com/notebooks/data_table.ipynb>data table notebook</a>'\n",
              "          + ' to learn more about interactive tables.';\n",
              "        element.innerHTML = '';\n",
              "        dataTable['output_type'] = 'display_data';\n",
              "        await google.colab.output.renderOutput(dataTable, element);\n",
              "        const docLink = document.createElement('div');\n",
              "        docLink.innerHTML = docLinkHtml;\n",
              "        element.appendChild(docLink);\n",
              "      }\n",
              "    </script>\n",
              "  </div>\n",
              "\n",
              "\n",
              "<div id=\"df-e5054744-ac04-44c9-9045-c4a9c519a555\">\n",
              "  <button class=\"colab-df-quickchart\" onclick=\"quickchart('df-e5054744-ac04-44c9-9045-c4a9c519a555')\"\n",
              "            title=\"Suggest charts\"\n",
              "            style=\"display:none;\">\n",
              "\n",
              "<svg xmlns=\"http://www.w3.org/2000/svg\" height=\"24px\"viewBox=\"0 0 24 24\"\n",
              "     width=\"24px\">\n",
              "    <g>\n",
              "        <path d=\"M19 3H5c-1.1 0-2 .9-2 2v14c0 1.1.9 2 2 2h14c1.1 0 2-.9 2-2V5c0-1.1-.9-2-2-2zM9 17H7v-7h2v7zm4 0h-2V7h2v10zm4 0h-2v-4h2v4z\"/>\n",
              "    </g>\n",
              "</svg>\n",
              "  </button>\n",
              "\n",
              "<style>\n",
              "  .colab-df-quickchart {\n",
              "      --bg-color: #E8F0FE;\n",
              "      --fill-color: #1967D2;\n",
              "      --hover-bg-color: #E2EBFA;\n",
              "      --hover-fill-color: #174EA6;\n",
              "      --disabled-fill-color: #AAA;\n",
              "      --disabled-bg-color: #DDD;\n",
              "  }\n",
              "\n",
              "  [theme=dark] .colab-df-quickchart {\n",
              "      --bg-color: #3B4455;\n",
              "      --fill-color: #D2E3FC;\n",
              "      --hover-bg-color: #434B5C;\n",
              "      --hover-fill-color: #FFFFFF;\n",
              "      --disabled-bg-color: #3B4455;\n",
              "      --disabled-fill-color: #666;\n",
              "  }\n",
              "\n",
              "  .colab-df-quickchart {\n",
              "    background-color: var(--bg-color);\n",
              "    border: none;\n",
              "    border-radius: 50%;\n",
              "    cursor: pointer;\n",
              "    display: none;\n",
              "    fill: var(--fill-color);\n",
              "    height: 32px;\n",
              "    padding: 0;\n",
              "    width: 32px;\n",
              "  }\n",
              "\n",
              "  .colab-df-quickchart:hover {\n",
              "    background-color: var(--hover-bg-color);\n",
              "    box-shadow: 0 1px 2px rgba(60, 64, 67, 0.3), 0 1px 3px 1px rgba(60, 64, 67, 0.15);\n",
              "    fill: var(--button-hover-fill-color);\n",
              "  }\n",
              "\n",
              "  .colab-df-quickchart-complete:disabled,\n",
              "  .colab-df-quickchart-complete:disabled:hover {\n",
              "    background-color: var(--disabled-bg-color);\n",
              "    fill: var(--disabled-fill-color);\n",
              "    box-shadow: none;\n",
              "  }\n",
              "\n",
              "  .colab-df-spinner {\n",
              "    border: 2px solid var(--fill-color);\n",
              "    border-color: transparent;\n",
              "    border-bottom-color: var(--fill-color);\n",
              "    animation:\n",
              "      spin 1s steps(1) infinite;\n",
              "  }\n",
              "\n",
              "  @keyframes spin {\n",
              "    0% {\n",
              "      border-color: transparent;\n",
              "      border-bottom-color: var(--fill-color);\n",
              "      border-left-color: var(--fill-color);\n",
              "    }\n",
              "    20% {\n",
              "      border-color: transparent;\n",
              "      border-left-color: var(--fill-color);\n",
              "      border-top-color: var(--fill-color);\n",
              "    }\n",
              "    30% {\n",
              "      border-color: transparent;\n",
              "      border-left-color: var(--fill-color);\n",
              "      border-top-color: var(--fill-color);\n",
              "      border-right-color: var(--fill-color);\n",
              "    }\n",
              "    40% {\n",
              "      border-color: transparent;\n",
              "      border-right-color: var(--fill-color);\n",
              "      border-top-color: var(--fill-color);\n",
              "    }\n",
              "    60% {\n",
              "      border-color: transparent;\n",
              "      border-right-color: var(--fill-color);\n",
              "    }\n",
              "    80% {\n",
              "      border-color: transparent;\n",
              "      border-right-color: var(--fill-color);\n",
              "      border-bottom-color: var(--fill-color);\n",
              "    }\n",
              "    90% {\n",
              "      border-color: transparent;\n",
              "      border-bottom-color: var(--fill-color);\n",
              "    }\n",
              "  }\n",
              "</style>\n",
              "\n",
              "  <script>\n",
              "    async function quickchart(key) {\n",
              "      const quickchartButtonEl =\n",
              "        document.querySelector('#' + key + ' button');\n",
              "      quickchartButtonEl.disabled = true;  // To prevent multiple clicks.\n",
              "      quickchartButtonEl.classList.add('colab-df-spinner');\n",
              "      try {\n",
              "        const charts = await google.colab.kernel.invokeFunction(\n",
              "            'suggestCharts', [key], {});\n",
              "      } catch (error) {\n",
              "        console.error('Error during call to suggestCharts:', error);\n",
              "      }\n",
              "      quickchartButtonEl.classList.remove('colab-df-spinner');\n",
              "      quickchartButtonEl.classList.add('colab-df-quickchart-complete');\n",
              "    }\n",
              "    (() => {\n",
              "      let quickchartButtonEl =\n",
              "        document.querySelector('#df-e5054744-ac04-44c9-9045-c4a9c519a555 button');\n",
              "      quickchartButtonEl.style.display =\n",
              "        google.colab.kernel.accessAllowed ? 'block' : 'none';\n",
              "    })();\n",
              "  </script>\n",
              "</div>\n",
              "    </div>\n",
              "  </div>\n"
            ],
            "text/plain": [
              "                      Title  \\\n",
              "0          Ayam Woku Manado   \n",
              "1  Ayam goreng tulang lunak   \n",
              "2          Ayam cabai kawin   \n",
              "3               Ayam Geprek   \n",
              "4               Minyak Ayam   \n",
              "\n",
              "                                         Ingredients  \\\n",
              "0  1 Ekor Ayam Kampung (potong 12)--2 Buah Jeruk ...   \n",
              "1  1 kg ayam (dipotong sesuai selera jangan kecil...   \n",
              "2  1/4 kg ayam--3 buah cabai hijau besar--7 buah ...   \n",
              "3  250 gr daging ayam (saya pakai fillet)--Secuku...   \n",
              "4  400 gr kulit ayam & lemaknya--8 siung bawang p...   \n",
              "\n",
              "                                               Steps  Loves  \\\n",
              "0  Cuci bersih ayam dan tiriskan. Lalu peras jeru...      1   \n",
              "1  Haluskan bumbu2nya (BaPut, ketumbar, kemiri, k...      1   \n",
              "2  Panaskan minyak di dalam wajan. Setelah minyak...      2   \n",
              "3  Goreng ayam seperti ayam krispi--Ulek semua ba...     10   \n",
              "4  Cuci bersih kulit ayam. Sisihkan--Ambil 50 ml ...      4   \n",
              "\n",
              "                                          URL  \\\n",
              "0          /id/resep/4473027-ayam-woku-manado   \n",
              "1  /id/resep/4471956-ayam-goreng-tulang-lunak   \n",
              "2          /id/resep/4473057-ayam-cabai-kawin   \n",
              "3               /id/resep/4473023-ayam-geprek   \n",
              "4               /id/resep/4427438-minyak-ayam   \n",
              "\n",
              "                                            gabungan  \n",
              "0  Cara Masak Ayam Woku Manado Cuci bersih ayam d...  \n",
              "1  Cara Masak Ayam goreng tulang lunak Haluskan b...  \n",
              "2  Cara Masak Ayam cabai kawin Panaskan minyak di...  \n",
              "3  Cara Masak Ayam Geprek Goreng ayam seperti aya...  \n",
              "4  Cara Masak Minyak Ayam Cuci bersih kulit ayam....  "
            ]
          },
          "execution_count": 6,
          "metadata": {},
          "output_type": "execute_result"
        }
      ],
      "source": [
        "df = pd.read_csv(\"/content/dataset-ayam.csv\", encoding=\"ISO-8859-1\")\n",
        "df = df.dropna()\n",
        "df['gabungan'] = 'Cara Masak ' + df['Title'] + ' ' + df['Steps']\n",
        "df.head()"
      ]
    },
    {
      "cell_type": "code",
      "execution_count": null,
      "metadata": {
        "id": "kWRqvujaTr4n"
      },
      "outputs": [],
      "source": [
        "text_data = open('/content/dataset-ayam.csv', 'w')\n",
        "for idx, item in df.iterrows():\n",
        "  article = cleaning(item[\"Steps\"])\n",
        "  text_data.write(article)\n",
        "text_data.close()"
      ]
    },
    {
      "cell_type": "markdown",
      "metadata": {
        "id": "sjBgC7H8qIAy"
      },
      "source": [
        "## Step 2. Model Training"
      ]
    },
    {
      "cell_type": "code",
      "execution_count": null,
      "metadata": {
        "id": "oRadzZ-6qIAz"
      },
      "outputs": [],
      "source": [
        "from transformers import TextDataset, DataCollatorForLanguageModeling\n",
        "from transformers import GPT2Tokenizer, GPT2LMHeadModel\n",
        "from transformers import Trainer, TrainingArguments"
      ]
    },
    {
      "cell_type": "code",
      "execution_count": null,
      "metadata": {
        "id": "FaUz3HTpqIAz"
      },
      "outputs": [],
      "source": [
        "def load_dataset(file_path, tokenizer, block_size = 128):\n",
        "    dataset = TextDataset(\n",
        "        tokenizer = tokenizer,\n",
        "        file_path = file_path,\n",
        "        block_size = block_size,\n",
        "    )\n",
        "    return dataset\n",
        "\n",
        "\n",
        "def load_data_collator(tokenizer, mlm = False):\n",
        "    data_collator = DataCollatorForLanguageModeling(\n",
        "        tokenizer=tokenizer,\n",
        "        mlm=mlm,\n",
        "    )\n",
        "    return data_collator\n",
        "\n",
        "\n",
        "def train(train_file_path,model_name,\n",
        "          output_dir,\n",
        "          overwrite_output_dir,\n",
        "          per_device_train_batch_size,\n",
        "          num_train_epochs,\n",
        "          save_steps):\n",
        "  tokenizer = GPT2Tokenizer.from_pretrained(model_name)\n",
        "  train_dataset = load_dataset(train_file_path, tokenizer)\n",
        "  data_collator = load_data_collator(tokenizer)\n",
        "\n",
        "  tokenizer.save_pretrained(output_dir)\n",
        "\n",
        "  model = GPT2LMHeadModel.from_pretrained(model_name)\n",
        "\n",
        "  model.save_pretrained(output_dir)\n",
        "\n",
        "  training_args = TrainingArguments(\n",
        "          output_dir=output_dir,\n",
        "          overwrite_output_dir=overwrite_output_dir,\n",
        "          per_device_train_batch_size=per_device_train_batch_size,\n",
        "          num_train_epochs=num_train_epochs,\n",
        "      )\n",
        "\n",
        "  trainer = Trainer(\n",
        "          model=model,\n",
        "          args=training_args,\n",
        "          data_collator=data_collator,\n",
        "          train_dataset=train_dataset,\n",
        "  )\n",
        "\n",
        "  trainer.train()\n",
        "  trainer.save_model()"
      ]
    },
    {
      "cell_type": "code",
      "execution_count": null,
      "metadata": {
        "id": "WqvXHN-nqIAz"
      },
      "outputs": [],
      "source": [
        "# you need to set parameters\n",
        "train_file_path = \"/content/dataset-ayam.csv\"\n",
        "model_name = 'cahya/gpt2-small-indonesian-522M'\n",
        "output_dir = '/content/result'\n",
        "overwrite_output_dir = False\n",
        "per_device_train_batch_size = 8\n",
        "num_train_epochs = 10\n",
        "save_steps = 50000"
      ]
    },
    {
      "cell_type": "code",
      "execution_count": null,
      "metadata": {
        "colab": {
          "base_uri": "https://localhost:8080/"
        },
        "id": "ukbQ4_cTr_es",
        "outputId": "58e0e799-90e0-41b8-b432-224bd1388212"
      },
      "outputs": [
        {
          "name": "stdout",
          "output_type": "stream",
          "text": [
            "Requirement already satisfied: accelerate in /usr/local/lib/python3.10/dist-packages (0.27.2)\n",
            "Requirement already satisfied: numpy>=1.17 in /usr/local/lib/python3.10/dist-packages (from accelerate) (1.25.2)\n",
            "Requirement already satisfied: packaging>=20.0 in /usr/local/lib/python3.10/dist-packages (from accelerate) (23.2)\n",
            "Requirement already satisfied: psutil in /usr/local/lib/python3.10/dist-packages (from accelerate) (5.9.5)\n",
            "Requirement already satisfied: pyyaml in /usr/local/lib/python3.10/dist-packages (from accelerate) (6.0.1)\n",
            "Requirement already satisfied: torch>=1.10.0 in /usr/local/lib/python3.10/dist-packages (from accelerate) (2.1.0+cu121)\n",
            "Requirement already satisfied: huggingface-hub in /usr/local/lib/python3.10/dist-packages (from accelerate) (0.20.3)\n",
            "Requirement already satisfied: safetensors>=0.3.1 in /usr/local/lib/python3.10/dist-packages (from accelerate) (0.4.2)\n",
            "Requirement already satisfied: filelock in /usr/local/lib/python3.10/dist-packages (from torch>=1.10.0->accelerate) (3.13.1)\n",
            "Requirement already satisfied: typing-extensions in /usr/local/lib/python3.10/dist-packages (from torch>=1.10.0->accelerate) (4.9.0)\n",
            "Requirement already satisfied: sympy in /usr/local/lib/python3.10/dist-packages (from torch>=1.10.0->accelerate) (1.12)\n",
            "Requirement already satisfied: networkx in /usr/local/lib/python3.10/dist-packages (from torch>=1.10.0->accelerate) (3.2.1)\n",
            "Requirement already satisfied: jinja2 in /usr/local/lib/python3.10/dist-packages (from torch>=1.10.0->accelerate) (3.1.3)\n",
            "Requirement already satisfied: fsspec in /usr/local/lib/python3.10/dist-packages (from torch>=1.10.0->accelerate) (2023.6.0)\n",
            "Requirement already satisfied: triton==2.1.0 in /usr/local/lib/python3.10/dist-packages (from torch>=1.10.0->accelerate) (2.1.0)\n",
            "Requirement already satisfied: requests in /usr/local/lib/python3.10/dist-packages (from huggingface-hub->accelerate) (2.31.0)\n",
            "Requirement already satisfied: tqdm>=4.42.1 in /usr/local/lib/python3.10/dist-packages (from huggingface-hub->accelerate) (4.66.2)\n",
            "Requirement already satisfied: MarkupSafe>=2.0 in /usr/local/lib/python3.10/dist-packages (from jinja2->torch>=1.10.0->accelerate) (2.1.5)\n",
            "Requirement already satisfied: charset-normalizer<4,>=2 in /usr/local/lib/python3.10/dist-packages (from requests->huggingface-hub->accelerate) (3.3.2)\n",
            "Requirement already satisfied: idna<4,>=2.5 in /usr/local/lib/python3.10/dist-packages (from requests->huggingface-hub->accelerate) (3.6)\n",
            "Requirement already satisfied: urllib3<3,>=1.21.1 in /usr/local/lib/python3.10/dist-packages (from requests->huggingface-hub->accelerate) (2.0.7)\n",
            "Requirement already satisfied: certifi>=2017.4.17 in /usr/local/lib/python3.10/dist-packages (from requests->huggingface-hub->accelerate) (2024.2.2)\n",
            "Requirement already satisfied: mpmath>=0.19 in /usr/local/lib/python3.10/dist-packages (from sympy->torch>=1.10.0->accelerate) (1.3.0)\n",
            "Requirement already satisfied: transformers in /usr/local/lib/python3.10/dist-packages (4.38.1)\n",
            "Requirement already satisfied: filelock in /usr/local/lib/python3.10/dist-packages (from transformers) (3.13.1)\n",
            "Requirement already satisfied: huggingface-hub<1.0,>=0.19.3 in /usr/local/lib/python3.10/dist-packages (from transformers) (0.20.3)\n",
            "Requirement already satisfied: numpy>=1.17 in /usr/local/lib/python3.10/dist-packages (from transformers) (1.25.2)\n",
            "Requirement already satisfied: packaging>=20.0 in /usr/local/lib/python3.10/dist-packages (from transformers) (23.2)\n",
            "Requirement already satisfied: pyyaml>=5.1 in /usr/local/lib/python3.10/dist-packages (from transformers) (6.0.1)\n",
            "Requirement already satisfied: regex!=2019.12.17 in /usr/local/lib/python3.10/dist-packages (from transformers) (2023.12.25)\n",
            "Requirement already satisfied: requests in /usr/local/lib/python3.10/dist-packages (from transformers) (2.31.0)\n",
            "Requirement already satisfied: tokenizers<0.19,>=0.14 in /usr/local/lib/python3.10/dist-packages (from transformers) (0.15.2)\n",
            "Requirement already satisfied: safetensors>=0.4.1 in /usr/local/lib/python3.10/dist-packages (from transformers) (0.4.2)\n",
            "Requirement already satisfied: tqdm>=4.27 in /usr/local/lib/python3.10/dist-packages (from transformers) (4.66.2)\n",
            "Requirement already satisfied: fsspec>=2023.5.0 in /usr/local/lib/python3.10/dist-packages (from huggingface-hub<1.0,>=0.19.3->transformers) (2023.6.0)\n",
            "Requirement already satisfied: typing-extensions>=3.7.4.3 in /usr/local/lib/python3.10/dist-packages (from huggingface-hub<1.0,>=0.19.3->transformers) (4.9.0)\n",
            "Requirement already satisfied: charset-normalizer<4,>=2 in /usr/local/lib/python3.10/dist-packages (from requests->transformers) (3.3.2)\n",
            "Requirement already satisfied: idna<4,>=2.5 in /usr/local/lib/python3.10/dist-packages (from requests->transformers) (3.6)\n",
            "Requirement already satisfied: urllib3<3,>=1.21.1 in /usr/local/lib/python3.10/dist-packages (from requests->transformers) (2.0.7)\n",
            "Requirement already satisfied: certifi>=2017.4.17 in /usr/local/lib/python3.10/dist-packages (from requests->transformers) (2024.2.2)\n"
          ]
        }
      ],
      "source": [
        "! pip install -U accelerate\n",
        "! pip install -U transformers"
      ]
    },
    {
      "cell_type": "code",
      "execution_count": null,
      "metadata": {
        "colab": {
          "background_save": true,
          "base_uri": "https://localhost:8080/",
          "height": 269
        },
        "id": "L3J4cJc-qIAz",
        "outputId": "c0a6a515-e2ec-4f4c-c30c-4701e41c63de"
      },
      "outputs": [
        {
          "name": "stderr",
          "output_type": "stream",
          "text": [
            "/usr/local/lib/python3.10/dist-packages/huggingface_hub/utils/_token.py:88: UserWarning: \n",
            "The secret `HF_TOKEN` does not exist in your Colab secrets.\n",
            "To authenticate with the Hugging Face Hub, create a token in your settings tab (https://huggingface.co/settings/tokens), set it as secret in your Google Colab and restart your session.\n",
            "You will be able to reuse this secret in all of your notebooks.\n",
            "Please note that authentication is recommended but still optional to access public models or datasets.\n",
            "  warnings.warn(\n",
            "/usr/local/lib/python3.10/dist-packages/transformers/data/datasets/language_modeling.py:53: FutureWarning: This dataset will be removed from the library soon, preprocessing should be handled with the 🤗 Datasets library. You can have a look at this example script for pointers: https://github.com/huggingface/transformers/blob/main/examples/pytorch/language-modeling/run_mlm.py\n",
            "  warnings.warn(\n",
            "/usr/local/lib/python3.10/dist-packages/torch/_utils.py:831: UserWarning: TypedStorage is deprecated. It will be removed in the future and UntypedStorage will be the only storage class. This should only matter to you if you are using storages directly.  To access UntypedStorage directly, use tensor.untyped_storage() instead of tensor.storage()\n",
            "  return self.fget.__get__(instance, owner)()\n"
          ]
        },
        {
          "data": {
            "text/html": [
              "\n",
              "    <div>\n",
              "      \n",
              "      <progress value='324' max='2300' style='width:300px; height:20px; vertical-align: middle;'></progress>\n",
              "      [ 324/2300 59:35 < 6:05:40, 0.09 it/s, Epoch 1.40/10]\n",
              "    </div>\n",
              "    <table border=\"1\" class=\"dataframe\">\n",
              "  <thead>\n",
              " <tr style=\"text-align: left;\">\n",
              "      <th>Step</th>\n",
              "      <th>Training Loss</th>\n",
              "    </tr>\n",
              "  </thead>\n",
              "  <tbody>\n",
              "  </tbody>\n",
              "</table><p>"
            ],
            "text/plain": [
              "<IPython.core.display.HTML object>"
            ]
          },
          "metadata": {},
          "output_type": "display_data"
        }
      ],
      "source": [
        "# It takes about 30 minutes to train in colab.\n",
        "train(\n",
        "    train_file_path=train_file_path,\n",
        "    model_name=model_name,\n",
        "    output_dir=output_dir,\n",
        "    overwrite_output_dir=overwrite_output_dir,\n",
        "    per_device_train_batch_size=per_device_train_batch_size,\n",
        "    num_train_epochs=num_train_epochs,\n",
        "    save_steps=save_steps\n",
        ")"
      ]
    },
    {
      "cell_type": "markdown",
      "metadata": {
        "id": "eNkvSMZTqIAz"
      },
      "source": [
        "## Step 3. Inference"
      ]
    },
    {
      "cell_type": "code",
      "execution_count": null,
      "metadata": {
        "id": "KsyjbCZpqIAz"
      },
      "outputs": [],
      "source": [
        "from transformers import PreTrainedTokenizerFast, GPT2LMHeadModel, GPT2TokenizerFast, GPT2Tokenizer"
      ]
    },
    {
      "cell_type": "code",
      "execution_count": null,
      "metadata": {
        "id": "Smm-sBn4qIA0"
      },
      "outputs": [],
      "source": [
        "def load_model(model_path):\n",
        "    model = GPT2LMHeadModel.from_pretrained(model_path)\n",
        "    return model\n",
        "\n",
        "\n",
        "def load_tokenizer(tokenizer_path):\n",
        "    tokenizer = GPT2Tokenizer.from_pretrained(tokenizer_path)\n",
        "    return tokenizer\n",
        "\n",
        "\n",
        "def generate_text(sequence, max_length):\n",
        "    model_path = \"/content/result\"\n",
        "    model = load_model(model_path)\n",
        "    tokenizer = load_tokenizer(model_path)\n",
        "    ids = tokenizer.encode(f'{sequence}', return_tensors='pt')\n",
        "    final_outputs = model.generate(\n",
        "        ids,\n",
        "        do_sample=True,\n",
        "        max_length=max_length,\n",
        "        pad_token_id=model.config.eos_token_id,\n",
        "        top_k=50,\n",
        "        top_p=0.95,\n",
        "    )\n",
        "    print(tokenizer.decode(final_outputs[0], skip_special_tokens=True))"
      ]
    },
    {
      "cell_type": "code",
      "execution_count": null,
      "metadata": {
        "id": "7LAEuILQqIA0"
      },
      "outputs": [],
      "source": [
        "sequence = input()\n",
        "# max_len = int(input()) # 20\n",
        "max_len = 50\n",
        "generate_text(sequence, max_len)"
      ]
    }
  ],
  "metadata": {
    "accelerator": "GPU",
    "colab": {
      "gpuType": "T4",
      "provenance": []
    },
    "kernelspec": {
      "display_name": "Python 3",
      "name": "python3"
    },
    "language_info": {
      "codemirror_mode": {
        "name": "ipython",
        "version": 3
      },
      "file_extension": ".py",
      "mimetype": "text/x-python",
      "name": "python",
      "nbconvert_exporter": "python",
      "pygments_lexer": "ipython3",
      "version": "3.6.4"
    }
  },
  "nbformat": 4,
  "nbformat_minor": 0
}